{
 "cells": [
  {
   "cell_type": "markdown",
   "metadata": {},
   "source": [
    "# Correlation between Musical Notes and Socio-Political Events "
   ]
  },
  {
   "cell_type": "code",
   "execution_count": null,
   "metadata": {},
   "outputs": [],
   "source": []
  }
 ],
 "metadata": {
  "kernelspec": {
   "display_name": "Python 3.10.9 ('correlation-music-socio-political-iVlIfEjW')",
   "language": "python",
   "name": "python3"
  },
  "language_info": {
   "name": "python",
   "version": "3.10.9"
  },
  "orig_nbformat": 4,
  "vscode": {
   "interpreter": {
    "hash": "e260128839cc9c8cdc89e62b4bad4cf373cc5c747854e57739ca25fba16a2f3d"
   }
  }
 },
 "nbformat": 4,
 "nbformat_minor": 2
}
